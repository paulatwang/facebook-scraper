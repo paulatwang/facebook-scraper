{
 "cells": [
  {
   "cell_type": "markdown",
   "id": "562d58a9-ea03-49b2-ae01-ac518e35733f",
   "metadata": {},
   "source": [
    "# Preparation"
   ]
  },
  {
   "cell_type": "markdown",
   "id": "5e6c0130-6500-4b6a-aed8-e6cfc5f612c0",
   "metadata": {},
   "source": [
    "**Picking a scraper package**\n",
    "\n",
    "There are a variety of python packages that are designed to scrape social media posts. Some examples (ranked by number of stars):\n",
    "\n",
    "- [Ultimate Facebook Scraper](https://github.com/harismuneer/Ultimate-Facebook-Scraper) 2.6k stars. Last activity Jul 2023. \"Scrapes almost everything about a Facebook user's profile\". Uses Selenium. Requires $119 payment.\n",
    "- [Unofficial APIs](https://github.com/Rolstenhouse/unofficial-apis) 2.5k stars. Last activity Jan 2023. List of unofficial APIs for various services, none for Facebook for now, but might be worth to check in the future.\n",
    "- [facebook-page-post-scraper](https://github.com/minimaxir/facebook-page-post-scraper) 2.1k stars. Last activity Dec 2017. Archived and read-only. \n",
    "- [facebook-scraper](https://github.com/kevinzg/facebook-scraper) 1.9k stars. Last activity Nov 2023. \"Scrape Facebook public pages without an API key.\"\n",
    "- [facebook-post-scraper](https://github.com/brutalsavage/facebook-post-scraper) 282 stars. Last activity Sep 2020. \"Scrape Facebook Public Posts without using Facebook API.\"\n",
    "- [major-scrapy-spiders](https://github.com/talhashraf/major-scrapy-spiders) 272 stars. Last activity Jul 2017. Has a profile spider for Scrapy.\n",
    "- [facebook-scraper-selenium](https://github.com/apurvmishra99/facebook-scraper-selenium) 179 stars. Last activity Jun 2020. \"Scrape posts from any group or user into a .csv file without needing to register for any API access\".\n",
    "\n",
    "Based on this list, it seems that the highest starred option that isn't paid, is available for Facebook, and isn't archived is `facebook-scraper`. So that is what we will use. \n"
   ]
  },
  {
   "cell_type": "markdown",
   "id": "cbd35f41-fd4b-4637-b6ec-e9953dd09072",
   "metadata": {},
   "source": [
    "To use the `facebook-scraper` package, we need cookies to bypass the login page. Export Facebook.com cookies using extension such as [Edit This Cookie](https://www.editthiscookie.com/). Save as txt file. "
   ]
  },
  {
   "cell_type": "markdown",
   "id": "171c4815-8edd-45b3-a185-d4f4647ff4d8",
   "metadata": {},
   "source": [
    "**Picking a sentiment analysis package**\n",
    "\n",
    "For sentiment analysis, there are a few package options:\n",
    "\n",
    "- [NTLK](https://www.nltk.org/) Most comprehensive. Requires configuration and training for sentiment analysis.\n",
    "- [TextBlob](https://textblob.readthedocs.io/en/dev/) Built on NTLK. Pre-trained sentiment analyzer. Composite polarity score.\n",
    "- [VADER](https://github.com/cjhutto/vaderSentiment) Built on NTLK. Particularly strong for short-form text like article headlines and social media. Proportional pos/neg/neu and composite score.\n",
    "- [spaCy](https://spacy.io/usage) Offers pretrained models and tools for NLP.\n",
    "- [Transformers](https://huggingface.co/docs/transformers/index) Offers pretrained models for a variety of NLP tasks.\n",
    "\n",
    "We will use VADER."
   ]
  },
  {
   "cell_type": "markdown",
   "id": "49ac13e1-d4e8-46d0-a5fb-c5924a13e938",
   "metadata": {},
   "source": [
    "**Setting up conda environment**\n",
    "\n",
    "Set up a conda environment with the following specifications:\n",
    "```\n",
    "name: scraper\n",
    "channels:\n",
    "  - conda-forge\n",
    "dependencies:\n",
    "  - python==3.8\n",
    "  - jupyterlab==4.0.8\n",
    "  - ipykernel==6.25.0\n",
    "  - numpy==1.24.4\n",
    "  - pandas==2.0.3\n",
    "  - matplotlib==3.7.3\n",
    "  - seaborn==0.13.0\n",
    "  - beautifulsoup4==4.12.2\n",
    "  - requests==2.31.0\n",
    "  - pip==23.3.1 \n",
    "  - pip:\n",
    "    - nltk==3.8.1\n",
    "    - facebook-scraper==0.2.59\n",
    "```"
   ]
  },
  {
   "cell_type": "markdown",
   "id": "6671562e-d1ac-48f2-9e32-40f05d9e1169",
   "metadata": {},
   "source": [
    "# Facebook Scraping"
   ]
  },
  {
   "cell_type": "markdown",
   "id": "66ff3592-c700-4a2d-8a64-b8fdd5a46895",
   "metadata": {},
   "source": [
    "Import libraries."
   ]
  },
  {
   "cell_type": "code",
   "execution_count": 1,
   "id": "34a6758c-a259-4ffa-af58-0ecd70891c83",
   "metadata": {},
   "outputs": [
    {
     "name": "stderr",
     "output_type": "stream",
     "text": [
      "/Users/paulawang/opt/miniconda3/envs/scraper/lib/python3.8/site-packages/tqdm/auto.py:21: TqdmWarning: IProgress not found. Please update jupyter and ipywidgets. See https://ipywidgets.readthedocs.io/en/stable/user_install.html\n",
      "  from .autonotebook import tqdm as notebook_tqdm\n"
     ]
    }
   ],
   "source": [
    "from facebook_scraper import get_posts\n",
    "import pandas as pd\n",
    "import numpy as np"
   ]
  },
  {
   "cell_type": "markdown",
   "id": "b1348618-a9ef-43bc-9734-23e76611e1f1",
   "metadata": {},
   "source": [
    "Get posts, including comments and reactors. Running it directly (rather than writing it into a function) allows the `listposts` variable to add some post data even after temporarily banning happens. "
   ]
  },
  {
   "cell_type": "code",
   "execution_count": 29,
   "id": "a8c5f4e0-03f3-40b2-86e0-e2ff250115da",
   "metadata": {
    "scrolled": true
   },
   "outputs": [
    {
     "ename": "TemporarilyBanned",
     "evalue": "You’re Temporarily Blocked",
     "output_type": "error",
     "traceback": [
      "\u001b[0;31m---------------------------------------------------------------------------\u001b[0m",
      "\u001b[0;31mTemporarilyBanned\u001b[0m                         Traceback (most recent call last)",
      "Cell \u001b[0;32mIn[29], line 2\u001b[0m\n\u001b[1;32m      1\u001b[0m listposts \u001b[38;5;241m=\u001b[39m []\n\u001b[0;32m----> 2\u001b[0m \u001b[38;5;28;01mfor\u001b[39;00m post \u001b[38;5;129;01min\u001b[39;00m get_posts(\u001b[38;5;124m\"\u001b[39m\u001b[38;5;124mnews.com.au\u001b[39m\u001b[38;5;124m\"\u001b[39m, \n\u001b[1;32m      3\u001b[0m                       cookies\u001b[38;5;241m=\u001b[39m\u001b[38;5;124m\"\u001b[39m\u001b[38;5;124mcookies.txt\u001b[39m\u001b[38;5;124m\"\u001b[39m,\n\u001b[1;32m      4\u001b[0m                       pages\u001b[38;5;241m=\u001b[39m\u001b[38;5;241m100\u001b[39m,\n\u001b[1;32m      5\u001b[0m                       options\u001b[38;5;241m=\u001b[39m{\u001b[38;5;124m\"\u001b[39m\u001b[38;5;124mcomments\u001b[39m\u001b[38;5;124m\"\u001b[39m:\u001b[38;5;28;01mTrue\u001b[39;00m, \u001b[38;5;124m\"\u001b[39m\u001b[38;5;124mreactors\u001b[39m\u001b[38;5;124m\"\u001b[39m: \u001b[38;5;28;01mTrue\u001b[39;00m, \u001b[38;5;124m\"\u001b[39m\u001b[38;5;124mposts_per_page\u001b[39m\u001b[38;5;124m\"\u001b[39m: \u001b[38;5;241m10\u001b[39m}):\n\u001b[1;32m      6\u001b[0m     listposts\u001b[38;5;241m.\u001b[39mappend(post)\n\u001b[1;32m      7\u001b[0m (\u001b[38;5;124m\"\u001b[39m\u001b[38;5;124m\"\u001b[39m)\n",
      "File \u001b[0;32m~/opt/miniconda3/envs/scraper/lib/python3.8/site-packages/facebook_scraper/facebook_scraper.py:1117\u001b[0m, in \u001b[0;36mFacebookScraper._generic_get_posts\u001b[0;34m(self, extract_post_fn, iter_pages_fn, page_limit, options, remove_source, latest_date, max_past_limit, **kwargs)\u001b[0m\n\u001b[1;32m   1115\u001b[0m logger\u001b[38;5;241m.\u001b[39mdebug(\u001b[38;5;124m\"\u001b[39m\u001b[38;5;124mExtracting posts from page \u001b[39m\u001b[38;5;132;01m%s\u001b[39;00m\u001b[38;5;124m\"\u001b[39m, i)\n\u001b[1;32m   1116\u001b[0m \u001b[38;5;28;01mfor\u001b[39;00m post_element \u001b[38;5;129;01min\u001b[39;00m page:\n\u001b[0;32m-> 1117\u001b[0m     post \u001b[38;5;241m=\u001b[39m \u001b[43mextract_post_fn\u001b[49m\u001b[43m(\u001b[49m\u001b[43mpost_element\u001b[49m\u001b[43m,\u001b[49m\u001b[43m \u001b[49m\u001b[43moptions\u001b[49m\u001b[38;5;241;43m=\u001b[39;49m\u001b[43moptions\u001b[49m\u001b[43m,\u001b[49m\u001b[43m \u001b[49m\u001b[43mrequest_fn\u001b[49m\u001b[38;5;241;43m=\u001b[39;49m\u001b[38;5;28;43mself\u001b[39;49m\u001b[38;5;241;43m.\u001b[39;49m\u001b[43mget\u001b[49m\u001b[43m)\u001b[49m\n\u001b[1;32m   1118\u001b[0m     \u001b[38;5;28;01mif\u001b[39;00m remove_source:\n\u001b[1;32m   1119\u001b[0m         post\u001b[38;5;241m.\u001b[39mpop(\u001b[38;5;124m'\u001b[39m\u001b[38;5;124msource\u001b[39m\u001b[38;5;124m'\u001b[39m, \u001b[38;5;28;01mNone\u001b[39;00m)\n",
      "File \u001b[0;32m~/opt/miniconda3/envs/scraper/lib/python3.8/site-packages/facebook_scraper/extractors.py:33\u001b[0m, in \u001b[0;36mextract_post\u001b[0;34m(raw_post, options, request_fn, full_post_html)\u001b[0m\n\u001b[1;32m     30\u001b[0m \u001b[38;5;28;01mdef\u001b[39;00m \u001b[38;5;21mextract_post\u001b[39m(\n\u001b[1;32m     31\u001b[0m     raw_post: RawPost, options: Options, request_fn: RequestFunction, full_post_html\u001b[38;5;241m=\u001b[39m\u001b[38;5;28;01mNone\u001b[39;00m\n\u001b[1;32m     32\u001b[0m ) \u001b[38;5;241m-\u001b[39m\u001b[38;5;241m>\u001b[39m Post:\n\u001b[0;32m---> 33\u001b[0m     \u001b[38;5;28;01mreturn\u001b[39;00m \u001b[43mPostExtractor\u001b[49m\u001b[43m(\u001b[49m\u001b[43mraw_post\u001b[49m\u001b[43m,\u001b[49m\u001b[43m \u001b[49m\u001b[43moptions\u001b[49m\u001b[43m,\u001b[49m\u001b[43m \u001b[49m\u001b[43mrequest_fn\u001b[49m\u001b[43m,\u001b[49m\u001b[43m \u001b[49m\u001b[43mfull_post_html\u001b[49m\u001b[43m)\u001b[49m\u001b[38;5;241;43m.\u001b[39;49m\u001b[43mextract_post\u001b[49m\u001b[43m(\u001b[49m\u001b[43m)\u001b[49m\n",
      "File \u001b[0;32m~/opt/miniconda3/envs/scraper/lib/python3.8/site-packages/facebook_scraper/extractors.py:193\u001b[0m, in \u001b[0;36mPostExtractor.extract_post\u001b[0;34m(self)\u001b[0m\n\u001b[1;32m    191\u001b[0m \u001b[38;5;28;01mfor\u001b[39;00m method \u001b[38;5;129;01min\u001b[39;00m methods:\n\u001b[1;32m    192\u001b[0m     \u001b[38;5;28;01mtry\u001b[39;00m:\n\u001b[0;32m--> 193\u001b[0m         partial_post \u001b[38;5;241m=\u001b[39m \u001b[43mmethod\u001b[49m\u001b[43m(\u001b[49m\u001b[43m)\u001b[49m\n\u001b[1;32m    194\u001b[0m         \u001b[38;5;28;01mif\u001b[39;00m partial_post \u001b[38;5;129;01mis\u001b[39;00m \u001b[38;5;28;01mNone\u001b[39;00m:\n\u001b[1;32m    195\u001b[0m             log_warning(\u001b[38;5;124m\"\u001b[39m\u001b[38;5;124mExtract method \u001b[39m\u001b[38;5;132;01m%s\u001b[39;00m\u001b[38;5;124m didn\u001b[39m\u001b[38;5;124m'\u001b[39m\u001b[38;5;124mt return anything\u001b[39m\u001b[38;5;124m\"\u001b[39m, method\u001b[38;5;241m.\u001b[39m\u001b[38;5;18m__name__\u001b[39m)\n",
      "File \u001b[0;32m~/opt/miniconda3/envs/scraper/lib/python3.8/site-packages/facebook_scraper/extractors.py:947\u001b[0m, in \u001b[0;36mPostExtractor.extract_video_meta\u001b[0;34m(self)\u001b[0m\n\u001b[1;32m    946\u001b[0m \u001b[38;5;28;01mdef\u001b[39;00m \u001b[38;5;21mextract_video_meta\u001b[39m(\u001b[38;5;28mself\u001b[39m):\n\u001b[0;32m--> 947\u001b[0m     elem \u001b[38;5;241m=\u001b[39m \u001b[38;5;28;43mself\u001b[39;49m\u001b[38;5;241;43m.\u001b[39;49m\u001b[43mfull_post_html\u001b[49m\u001b[38;5;241m.\u001b[39mfind(\u001b[38;5;124m\"\u001b[39m\u001b[38;5;124mscript[type=\u001b[39m\u001b[38;5;124m'\u001b[39m\u001b[38;5;124mapplication/ld+json\u001b[39m\u001b[38;5;124m'\u001b[39m\u001b[38;5;124m]\u001b[39m\u001b[38;5;124m\"\u001b[39m, first\u001b[38;5;241m=\u001b[39m\u001b[38;5;28;01mTrue\u001b[39;00m)\n\u001b[1;32m    948\u001b[0m     \u001b[38;5;28;01mif\u001b[39;00m \u001b[38;5;129;01mnot\u001b[39;00m elem:\n\u001b[1;32m    949\u001b[0m         \u001b[38;5;28;01mreturn\u001b[39;00m \u001b[38;5;28;01mNone\u001b[39;00m\n",
      "File \u001b[0;32m~/opt/miniconda3/envs/scraper/lib/python3.8/site-packages/facebook_scraper/extractors.py:1351\u001b[0m, in \u001b[0;36mPostExtractor.full_post_html\u001b[0;34m(self)\u001b[0m\n\u001b[1;32m   1349\u001b[0m logger\u001b[38;5;241m.\u001b[39mdebug(\u001b[38;5;124mf\u001b[39m\u001b[38;5;124m\"\u001b[39m\u001b[38;5;124mFetching \u001b[39m\u001b[38;5;132;01m{\u001b[39;00murl\u001b[38;5;132;01m}\u001b[39;00m\u001b[38;5;124m\"\u001b[39m)\n\u001b[1;32m   1350\u001b[0m \u001b[38;5;28;01mtry\u001b[39;00m:\n\u001b[0;32m-> 1351\u001b[0m     response \u001b[38;5;241m=\u001b[39m \u001b[38;5;28;43mself\u001b[39;49m\u001b[38;5;241;43m.\u001b[39;49m\u001b[43mrequest\u001b[49m\u001b[43m(\u001b[49m\u001b[43murl\u001b[49m\u001b[43m)\u001b[49m\n\u001b[1;32m   1352\u001b[0m \u001b[38;5;28;01mexcept\u001b[39;00m exceptions\u001b[38;5;241m.\u001b[39mNotFound \u001b[38;5;28;01mas\u001b[39;00m e:\n\u001b[1;32m   1353\u001b[0m     url \u001b[38;5;241m=\u001b[39m \u001b[38;5;28mself\u001b[39m\u001b[38;5;241m.\u001b[39mpost\u001b[38;5;241m.\u001b[39mget(\u001b[38;5;124m'\u001b[39m\u001b[38;5;124mpost_url\u001b[39m\u001b[38;5;124m'\u001b[39m)\u001b[38;5;241m.\u001b[39mreplace(FB_BASE_URL, FB_MOBILE_BASE_URL)\n",
      "File \u001b[0;32m~/opt/miniconda3/envs/scraper/lib/python3.8/site-packages/facebook_scraper/facebook_scraper.py:929\u001b[0m, in \u001b[0;36mFacebookScraper.get\u001b[0;34m(self, url, **kwargs)\u001b[0m\n\u001b[1;32m    927\u001b[0m     \u001b[38;5;28;01mraise\u001b[39;00m exceptions\u001b[38;5;241m.\u001b[39mUnexpectedResponse(\u001b[38;5;124m\"\u001b[39m\u001b[38;5;124mYour request couldn\u001b[39m\u001b[38;5;124m'\u001b[39m\u001b[38;5;124mt be processed\u001b[39m\u001b[38;5;124m\"\u001b[39m)\n\u001b[1;32m    928\u001b[0m \u001b[38;5;28;01melif\u001b[39;00m title\u001b[38;5;241m.\u001b[39mtext\u001b[38;5;241m.\u001b[39mlower() \u001b[38;5;129;01min\u001b[39;00m temp_ban_titles:\n\u001b[0;32m--> 929\u001b[0m     \u001b[38;5;28;01mraise\u001b[39;00m exceptions\u001b[38;5;241m.\u001b[39mTemporarilyBanned(title\u001b[38;5;241m.\u001b[39mtext)\n\u001b[1;32m    930\u001b[0m \u001b[38;5;28;01melif\u001b[39;00m \u001b[38;5;124m\"\u001b[39m\u001b[38;5;124m>your account has been disabled<\u001b[39m\u001b[38;5;124m\"\u001b[39m \u001b[38;5;129;01min\u001b[39;00m response\u001b[38;5;241m.\u001b[39mhtml\u001b[38;5;241m.\u001b[39mhtml\u001b[38;5;241m.\u001b[39mlower():\n\u001b[1;32m    931\u001b[0m     \u001b[38;5;28;01mraise\u001b[39;00m exceptions\u001b[38;5;241m.\u001b[39mAccountDisabled(\u001b[38;5;124m\"\u001b[39m\u001b[38;5;124mYour Account Has Been Disabled\u001b[39m\u001b[38;5;124m\"\u001b[39m)\n",
      "\u001b[0;31mTemporarilyBanned\u001b[0m: You’re Temporarily Blocked"
     ]
    }
   ],
   "source": [
    "listposts = []\n",
    "for post in get_posts(\"news.com.au\", \n",
    "                      cookies=\"cookies.txt\",\n",
    "                      pages=100,\n",
    "                      options={\"comments\":True, \"reactors\": True, \"posts_per_page\": 10}):\n",
    "    listposts.append(post)\n",
    ";"
   ]
  },
  {
   "cell_type": "markdown",
   "id": "f893c17f-6977-4d37-a5dc-940fea382136",
   "metadata": {},
   "source": [
    "Export raw data."
   ]
  },
  {
   "cell_type": "code",
   "execution_count": 27,
   "id": "2b9f4b94-2fa3-469d-8324-888da5966f6e",
   "metadata": {},
   "outputs": [
    {
     "name": "stdout",
     "output_type": "stream",
     "text": [
      "Number of posts: 8\n"
     ]
    }
   ],
   "source": [
    "print(f\"Number of posts: {len(listposts)}\")\n",
    "raw = pd.DataFrame.from_dict(listposts)\n",
    "# raw.to_csv(\"fb_data4.csv\")"
   ]
  },
  {
   "cell_type": "markdown",
   "id": "9d4e628e-cc57-4e88-b1b6-1a3e62a19f0e",
   "metadata": {},
   "source": [
    "One of the issues with running the get_posts() function is the possibility of getting temporarily blocked by Facebook, which has happened everytime. The block seems to last anywhere between a few hours to a few days. Potential remedies:\n",
    "\n",
    "- Create a delay between requests. Don't think `facebook-scraper` offers an option for this.\n",
    "- Rotate IPs. Perhaps via VPN or Tor.\n",
    "- Randomize user-agents. Perhaps via `requests`, `Selenium`, or manually switch browser. "
   ]
  },
  {
   "cell_type": "markdown",
   "id": "0c21660b-1dd4-423b-ab29-08cf2109716c",
   "metadata": {},
   "source": [
    "Because of the issues with blocking, I have several separately scraped raw data files. We can collate them below. "
   ]
  },
  {
   "cell_type": "code",
   "execution_count": 5,
   "id": "f2e275e9-6b5e-4fa0-a015-69ed97819669",
   "metadata": {},
   "outputs": [
    {
     "name": "stdout",
     "output_type": "stream",
     "text": [
      "Number of total posts: 260\n"
     ]
    }
   ],
   "source": [
    "raw1 = pd.read_csv(\"fb_data1.csv\")\n",
    "raw2 = pd.read_csv(\"fb_data2.csv\")\n",
    "raw3 = pd.read_csv(\"fb_data3.csv\")\n",
    "raw4 = pd.read_csv(\"fb_data4.csv\")\n",
    "raw_collated = pd.DataFrame()\n",
    "\n",
    "for files in [raw1, raw2, raw3, raw4]:\n",
    "    raw_collated = pd.concat([raw_collated, files])\n",
    "\n",
    "print(f\"Number of total posts: {len(raw_collated)}\")"
   ]
  },
  {
   "cell_type": "markdown",
   "id": "613cf2e8-b894-4e90-90d1-ec3ef38dcdd1",
   "metadata": {},
   "source": [
    "Drop duplicate posts (same `post_id`). Keep the one with greater number of reactions (`reaction_count`).  "
   ]
  },
  {
   "cell_type": "code",
   "execution_count": 6,
   "id": "ee2b5004-886c-47cb-92b3-6cdaa4561216",
   "metadata": {},
   "outputs": [
    {
     "name": "stdout",
     "output_type": "stream",
     "text": [
      "Number of posts: 182\n",
      "Number of columns: 54\n"
     ]
    }
   ],
   "source": [
    "raw_collated = raw_collated.sort_values(\"reaction_count\", ascending=False).groupby(\"post_id\").head(1)\n",
    "raw_collated = raw_collated.sort_values(\"time\", ascending=False).reset_index()\n",
    "\n",
    "print(f\"Number of posts: {len(raw_collated)}\")\n",
    "print(f\"Number of columns: {raw_collated.shape[1]}\")"
   ]
  },
  {
   "cell_type": "markdown",
   "id": "f8b2d3ff-8565-4321-b814-f85dba97512e",
   "metadata": {},
   "source": [
    "# Data Exploration and Cleaning"
   ]
  },
  {
   "cell_type": "markdown",
   "id": "eca4e969-1957-4b1d-bffe-6a08448969aa",
   "metadata": {},
   "source": [
    "Let's take a look at the data. "
   ]
  },
  {
   "cell_type": "code",
   "execution_count": 7,
   "id": "92089e0d-cee4-4253-856d-956cdbb1ae9e",
   "metadata": {
    "scrolled": true
   },
   "outputs": [
    {
     "name": "stdout",
     "output_type": "stream",
     "text": [
      "<class 'pandas.core.frame.DataFrame'>\n",
      "RangeIndex: 182 entries, 0 to 181\n",
      "Data columns (total 54 columns):\n",
      " #   Column                         Non-Null Count  Dtype  \n",
      "---  ------                         --------------  -----  \n",
      " 0   index                          182 non-null    int64  \n",
      " 1   Unnamed: 0                     182 non-null    int64  \n",
      " 2   post_id                        182 non-null    int64  \n",
      " 3   text                           182 non-null    object \n",
      " 4   post_text                      182 non-null    object \n",
      " 5   shared_text                    134 non-null    object \n",
      " 6   original_text                  0 non-null      float64\n",
      " 7   time                           182 non-null    object \n",
      " 8   timestamp                      182 non-null    int64  \n",
      " 9   image                          31 non-null     object \n",
      " 10  image_lowquality               151 non-null    object \n",
      " 11  images                         151 non-null    object \n",
      " 12  images_description             151 non-null    object \n",
      " 13  images_lowquality              151 non-null    object \n",
      " 14  images_lowquality_description  151 non-null    object \n",
      " 15  video                          17 non-null     object \n",
      " 16  video_duration_seconds         0 non-null      float64\n",
      " 17  video_height                   0 non-null      float64\n",
      " 18  video_id                       17 non-null     float64\n",
      " 19  video_quality                  0 non-null      float64\n",
      " 20  video_size_MB                  0 non-null      float64\n",
      " 21  video_thumbnail                17 non-null     object \n",
      " 22  video_watches                  0 non-null      float64\n",
      " 23  video_width                    0 non-null      float64\n",
      " 24  likes                          182 non-null    float64\n",
      " 25  comments                       182 non-null    int64  \n",
      " 26  shares                         182 non-null    int64  \n",
      " 27  post_url                       182 non-null    object \n",
      " 28  link                           136 non-null    object \n",
      " 29  links                          151 non-null    object \n",
      " 30  user_id                        182 non-null    int64  \n",
      " 31  username                       151 non-null    object \n",
      " 32  user_url                       151 non-null    object \n",
      " 33  is_live                        182 non-null    bool   \n",
      " 34  factcheck                      0 non-null      float64\n",
      " 35  shared_post_id                 2 non-null      float64\n",
      " 36  shared_time                    2 non-null      object \n",
      " 37  shared_user_id                 2 non-null      float64\n",
      " 38  shared_username                2 non-null      object \n",
      " 39  shared_post_url                2 non-null      object \n",
      " 40  available                      182 non-null    bool   \n",
      " 41  comments_full                  182 non-null    object \n",
      " 42  reactors                       61 non-null     object \n",
      " 43  w3_fb_url                      61 non-null     object \n",
      " 44  reactions                      61 non-null     object \n",
      " 45  reaction_count                 182 non-null    int64  \n",
      " 46  with                           2 non-null      object \n",
      " 47  page_id                        182 non-null    int64  \n",
      " 48  sharers                        0 non-null      float64\n",
      " 49  image_id                       31 non-null     float64\n",
      " 50  image_ids                      151 non-null    object \n",
      " 51  was_live                       182 non-null    bool   \n",
      " 52  fetched_time                   61 non-null     object \n",
      " 53  header                         2 non-null      object \n",
      "dtypes: bool(3), float64(14), int64(9), object(28)\n",
      "memory usage: 73.2+ KB\n"
     ]
    }
   ],
   "source": [
    "df = raw_collated.copy()\n",
    "df.info()"
   ]
  },
  {
   "cell_type": "markdown",
   "id": "d72de633-7bb9-438e-897f-de3052f3e973",
   "metadata": {},
   "source": [
    "Some initial thoughts:\n",
    "\n",
    "- All posts come with a caption (`post_text`)\n",
    "- Most, but not all posts share a link (`link`)\n",
    "- A few posts come with an image (`image`)\n",
    "- Only a few posts come with a video (`video`)\n",
    "\n",
    "It looks like total posts = posts with links + posts with video. So maybe all posts without links are video posts?"
   ]
  },
  {
   "cell_type": "markdown",
   "id": "d0fea50a-9fb7-4822-ab37-53e12ae231da",
   "metadata": {},
   "source": [
    "The package scrapes a good amount of data for each post, 51 columns in total. We don't need all of it, so we can select only the columns that we need for exploration, cleaning, and analysis. "
   ]
  },
  {
   "cell_type": "code",
   "execution_count": 8,
   "id": "2224dbbc-b754-4567-a2f7-177b4ce725c7",
   "metadata": {},
   "outputs": [],
   "source": [
    "columns = [\"post_id\", #unique id\n",
    "           \"post_text\", #caption of post\n",
    "           \"time\", #time posted (human-readable)\n",
    "           \"video\", #link to video\n",
    "           \"image\",\n",
    "           \"likes\",\n",
    "           \"comments\",\n",
    "           \"shares\",\n",
    "           \"post_url\",\n",
    "           \"link\",\n",
    "           \"comments_full\",\n",
    "           \"reactions\",\n",
    "           \"reaction_count\",\n",
    "]\n",
    "\n",
    "df = df[columns]"
   ]
  },
  {
   "cell_type": "markdown",
   "id": "57284e59-8046-49a7-ac36-46e78302f265",
   "metadata": {},
   "source": [
    "To start, let's look at which posts don't have links."
   ]
  },
  {
   "cell_type": "code",
   "execution_count": 9,
   "id": "feb98e62-0bff-46cc-b11b-dfb0507f9478",
   "metadata": {},
   "outputs": [
    {
     "name": "stdout",
     "output_type": "stream",
     "text": [
      "Posts without links:\n",
      "<class 'pandas.core.frame.DataFrame'>\n",
      "Index: 46 entries, 0 to 176\n",
      "Data columns (total 13 columns):\n",
      " #   Column          Non-Null Count  Dtype  \n",
      "---  ------          --------------  -----  \n",
      " 0   post_id         46 non-null     int64  \n",
      " 1   post_text       46 non-null     object \n",
      " 2   time            46 non-null     object \n",
      " 3   video           17 non-null     object \n",
      " 4   image           0 non-null      object \n",
      " 5   likes           46 non-null     float64\n",
      " 6   comments        46 non-null     int64  \n",
      " 7   shares          46 non-null     int64  \n",
      " 8   post_url        46 non-null     object \n",
      " 9   link            0 non-null      object \n",
      " 10  comments_full   46 non-null     object \n",
      " 11  reactions       35 non-null     object \n",
      " 12  reaction_count  46 non-null     int64  \n",
      "dtypes: float64(1), int64(4), object(8)\n",
      "memory usage: 5.0+ KB\n",
      "None\n",
      "Posts with links:\n",
      "<class 'pandas.core.frame.DataFrame'>\n",
      "Index: 136 entries, 31 to 181\n",
      "Data columns (total 13 columns):\n",
      " #   Column          Non-Null Count  Dtype  \n",
      "---  ------          --------------  -----  \n",
      " 0   post_id         136 non-null    int64  \n",
      " 1   post_text       136 non-null    object \n",
      " 2   time            136 non-null    object \n",
      " 3   video           0 non-null      object \n",
      " 4   image           31 non-null     object \n",
      " 5   likes           136 non-null    float64\n",
      " 6   comments        136 non-null    int64  \n",
      " 7   shares          136 non-null    int64  \n",
      " 8   post_url        136 non-null    object \n",
      " 9   link            136 non-null    object \n",
      " 10  comments_full   136 non-null    object \n",
      " 11  reactions       26 non-null     object \n",
      " 12  reaction_count  136 non-null    int64  \n",
      "dtypes: float64(1), int64(4), object(8)\n",
      "memory usage: 14.9+ KB\n",
      "None\n"
     ]
    }
   ],
   "source": [
    "print(\"Posts without links:\")\n",
    "print(df[df.link.isna()].info())\n",
    "print(\"Posts with links:\")\n",
    "print(df[~df.link.isna()].info())"
   ]
  },
  {
   "cell_type": "markdown",
   "id": "2aa61816-0210-4238-9ecf-39fcdd5a4289",
   "metadata": {},
   "source": [
    "OK it looks like all posts without links are video posts. Image posts can have links. Let's drop the posts without links. "
   ]
  },
  {
   "cell_type": "code",
   "execution_count": 10,
   "id": "df051db6-55a0-4077-969b-b26ee4e0c6bb",
   "metadata": {},
   "outputs": [
    {
     "data": {
      "text/html": [
       "<div>\n",
       "<style scoped>\n",
       "    .dataframe tbody tr th:only-of-type {\n",
       "        vertical-align: middle;\n",
       "    }\n",
       "\n",
       "    .dataframe tbody tr th {\n",
       "        vertical-align: top;\n",
       "    }\n",
       "\n",
       "    .dataframe thead th {\n",
       "        text-align: right;\n",
       "    }\n",
       "</style>\n",
       "<table border=\"1\" class=\"dataframe\">\n",
       "  <thead>\n",
       "    <tr style=\"text-align: right;\">\n",
       "      <th></th>\n",
       "      <th>post_id</th>\n",
       "      <th>post_text</th>\n",
       "      <th>time</th>\n",
       "      <th>video</th>\n",
       "      <th>image</th>\n",
       "      <th>likes</th>\n",
       "      <th>comments</th>\n",
       "      <th>shares</th>\n",
       "      <th>post_url</th>\n",
       "      <th>link</th>\n",
       "      <th>comments_full</th>\n",
       "      <th>reactions</th>\n",
       "      <th>reaction_count</th>\n",
       "    </tr>\n",
       "  </thead>\n",
       "  <tbody>\n",
       "    <tr>\n",
       "      <th>0</th>\n",
       "      <td>759361192893859</td>\n",
       "      <td>“He was probably right! That would’ve changed ...</td>\n",
       "      <td>2023-11-07 18:40:02</td>\n",
       "      <td>NaN</td>\n",
       "      <td>NaN</td>\n",
       "      <td>2.0</td>\n",
       "      <td>0</td>\n",
       "      <td>0</td>\n",
       "      <td>https://facebook.com/news.com.au/posts/7593611...</td>\n",
       "      <td>NaN</td>\n",
       "      <td>[]</td>\n",
       "      <td>{'like': 2}</td>\n",
       "      <td>2</td>\n",
       "    </tr>\n",
       "    <tr>\n",
       "      <th>1</th>\n",
       "      <td>759348716228440</td>\n",
       "      <td>This is one way to steal the spotlight. 👀</td>\n",
       "      <td>2023-11-07 18:20:01</td>\n",
       "      <td>NaN</td>\n",
       "      <td>NaN</td>\n",
       "      <td>3.0</td>\n",
       "      <td>7</td>\n",
       "      <td>0</td>\n",
       "      <td>https://facebook.com/news.com.au/posts/7593487...</td>\n",
       "      <td>NaN</td>\n",
       "      <td>[]</td>\n",
       "      <td>{'like': 3, 'haha': 2}</td>\n",
       "      <td>5</td>\n",
       "    </tr>\n",
       "    <tr>\n",
       "      <th>2</th>\n",
       "      <td>759338512896127</td>\n",
       "      <td>COMMENT: The Melbourne Cup might be seen as a ...</td>\n",
       "      <td>2023-11-07 18:00:01</td>\n",
       "      <td>NaN</td>\n",
       "      <td>NaN</td>\n",
       "      <td>26.0</td>\n",
       "      <td>96</td>\n",
       "      <td>1</td>\n",
       "      <td>https://facebook.com/news.com.au/posts/7593385...</td>\n",
       "      <td>NaN</td>\n",
       "      <td>[]</td>\n",
       "      <td>{'like': 26, 'love': 1, 'haha': 31, 'wow': 2}</td>\n",
       "      <td>60</td>\n",
       "    </tr>\n",
       "    <tr>\n",
       "      <th>3</th>\n",
       "      <td>759332346230077</td>\n",
       "      <td>Stargazers should enjoy Saturn’s rings while t...</td>\n",
       "      <td>2023-11-07 17:40:01</td>\n",
       "      <td>NaN</td>\n",
       "      <td>NaN</td>\n",
       "      <td>16.0</td>\n",
       "      <td>3</td>\n",
       "      <td>0</td>\n",
       "      <td>https://facebook.com/news.com.au/posts/7593323...</td>\n",
       "      <td>NaN</td>\n",
       "      <td>[]</td>\n",
       "      <td>{'like': 16, 'haha': 1}</td>\n",
       "      <td>17</td>\n",
       "    </tr>\n",
       "    <tr>\n",
       "      <th>4</th>\n",
       "      <td>759326902897288</td>\n",
       "      <td>What an iconic Aussie collaboration!</td>\n",
       "      <td>2023-11-07 17:20:02</td>\n",
       "      <td>NaN</td>\n",
       "      <td>NaN</td>\n",
       "      <td>13.0</td>\n",
       "      <td>2</td>\n",
       "      <td>0</td>\n",
       "      <td>https://facebook.com/news.com.au/posts/7593269...</td>\n",
       "      <td>NaN</td>\n",
       "      <td>[]</td>\n",
       "      <td>{'like': 13}</td>\n",
       "      <td>13</td>\n",
       "    </tr>\n",
       "  </tbody>\n",
       "</table>\n",
       "</div>"
      ],
      "text/plain": [
       "           post_id                                          post_text  \\\n",
       "0  759361192893859  “He was probably right! That would’ve changed ...   \n",
       "1  759348716228440          This is one way to steal the spotlight. 👀   \n",
       "2  759338512896127  COMMENT: The Melbourne Cup might be seen as a ...   \n",
       "3  759332346230077  Stargazers should enjoy Saturn’s rings while t...   \n",
       "4  759326902897288               What an iconic Aussie collaboration!   \n",
       "\n",
       "                  time video image  likes  comments  shares  \\\n",
       "0  2023-11-07 18:40:02   NaN   NaN    2.0         0       0   \n",
       "1  2023-11-07 18:20:01   NaN   NaN    3.0         7       0   \n",
       "2  2023-11-07 18:00:01   NaN   NaN   26.0        96       1   \n",
       "3  2023-11-07 17:40:01   NaN   NaN   16.0         3       0   \n",
       "4  2023-11-07 17:20:02   NaN   NaN   13.0         2       0   \n",
       "\n",
       "                                            post_url link comments_full  \\\n",
       "0  https://facebook.com/news.com.au/posts/7593611...  NaN            []   \n",
       "1  https://facebook.com/news.com.au/posts/7593487...  NaN            []   \n",
       "2  https://facebook.com/news.com.au/posts/7593385...  NaN            []   \n",
       "3  https://facebook.com/news.com.au/posts/7593323...  NaN            []   \n",
       "4  https://facebook.com/news.com.au/posts/7593269...  NaN            []   \n",
       "\n",
       "                                       reactions  reaction_count  \n",
       "0                                    {'like': 2}               2  \n",
       "1                         {'like': 3, 'haha': 2}               5  \n",
       "2  {'like': 26, 'love': 1, 'haha': 31, 'wow': 2}              60  \n",
       "3                        {'like': 16, 'haha': 1}              17  \n",
       "4                                   {'like': 13}              13  "
      ]
     },
     "execution_count": 10,
     "metadata": {},
     "output_type": "execute_result"
    }
   ],
   "source": [
    "df.head(5)"
   ]
  },
  {
   "cell_type": "markdown",
   "id": "8b9ba51e-8d91-43a0-8ba4-529b917c0606",
   "metadata": {},
   "source": [
    "Looking at the data, the scraper does a generally good job and there isn't too much to clean manually. I did some manual eyeballing of the `post_text` against the Facebook.com/news.com.au page and everything looks good. It seems like the only thing we need to do is remove the posts without links. We can also remove the video and image columns as we don't need them for further analysis."
   ]
  },
  {
   "cell_type": "code",
   "execution_count": 11,
   "id": "de9dd8f1-81da-4534-9aba-53c7b257777f",
   "metadata": {},
   "outputs": [
    {
     "name": "stdout",
     "output_type": "stream",
     "text": [
      "Number of posts: 136\n",
      "Number of columns: 14\n"
     ]
    }
   ],
   "source": [
    "df = df[~df.link.isna()].reset_index()\n",
    "print(f\"Number of posts: {len(df)}\")\n",
    "print(f\"Number of columns: {df.shape[1]}\")"
   ]
  },
  {
   "cell_type": "markdown",
   "id": "040a6aa4-6a5b-4c1b-8087-c99b20e54924",
   "metadata": {},
   "source": [
    "# Scrape Article"
   ]
  },
  {
   "cell_type": "markdown",
   "id": "b7aab4dc-4b31-40e9-9548-dc21c4500836",
   "metadata": {},
   "source": [
    "Import libraries."
   ]
  },
  {
   "cell_type": "code",
   "execution_count": 12,
   "id": "6b5006f4-e3af-4255-978d-ad9f98edb53b",
   "metadata": {},
   "outputs": [],
   "source": [
    "import requests\n",
    "from bs4 import BeautifulSoup\n",
    "from random import sample"
   ]
  },
  {
   "cell_type": "markdown",
   "id": "bdd9d770-e1a6-4d1c-9242-bbfc450d3442",
   "metadata": {},
   "source": [
    "This function needs to be customized based on the HTML setup of the individual website. For news.com.au, headlines are found under h1 class, id=\"story-headline\". Articles are found under div class, id=\"story-primary\"."
   ]
  },
  {
   "cell_type": "code",
   "execution_count": 13,
   "id": "aaa5dc2e-82c7-4ee2-8d3a-122ffb19f86b",
   "metadata": {},
   "outputs": [],
   "source": [
    "def get_article(url):\n",
    "    response = requests.get(url)\n",
    "    \n",
    "    if response.status_code == 200: # HTTP status code 200 = successful request\n",
    "        soup = BeautifulSoup(response.content, 'html.parser')\n",
    "        title = soup.find('h1', id=\"story-headline\").get_text()\n",
    "        article = soup.find('div', id=\"story-primary\").get_text()\n",
    "        \n",
    "        return title, article\n",
    "        \n",
    "    else:\n",
    "        print(f\"Page unreachable for {url}.\")"
   ]
  },
  {
   "cell_type": "code",
   "execution_count": 14,
   "id": "574e1693-c42d-436e-bd8a-cb97777820e5",
   "metadata": {},
   "outputs": [],
   "source": [
    "df2 = df.copy()\n",
    "links = df2.link.tolist()"
   ]
  },
  {
   "cell_type": "code",
   "execution_count": 15,
   "id": "5cc69946-8872-4060-932c-a83bf0f0cfe3",
   "metadata": {},
   "outputs": [],
   "source": [
    "article_data = [get_article(link) for link in links]\n",
    "article_title = [data[0] for data in article_data]\n",
    "article_text = [data[1] for data in article_data]"
   ]
  },
  {
   "cell_type": "markdown",
   "id": "1d1bc496-b96b-4038-a991-da2de415cdb5",
   "metadata": {},
   "source": [
    "To make sure that the article was pulled correctly, we can check that the article text doesn't contain any strings less than 1000 characters. "
   ]
  },
  {
   "cell_type": "code",
   "execution_count": 16,
   "id": "aa22e34f-6b76-49b5-9856-d84355efc6e3",
   "metadata": {
    "scrolled": true
   },
   "outputs": [
    {
     "data": {
      "text/plain": [
       "[]"
      ]
     },
     "execution_count": 16,
     "metadata": {},
     "output_type": "execute_result"
    }
   ],
   "source": [
    "[s for s in article_text if len(s) < 1000]"
   ]
  },
  {
   "cell_type": "markdown",
   "id": "be1fb90e-a722-4cd7-b65d-ea6e30eed72d",
   "metadata": {},
   "source": [
    "Add article_data to our dataframe."
   ]
  },
  {
   "cell_type": "code",
   "execution_count": 17,
   "id": "2b192285-8fe4-45db-a5db-0500b2bd8757",
   "metadata": {},
   "outputs": [
    {
     "data": {
      "text/html": [
       "<div>\n",
       "<style scoped>\n",
       "    .dataframe tbody tr th:only-of-type {\n",
       "        vertical-align: middle;\n",
       "    }\n",
       "\n",
       "    .dataframe tbody tr th {\n",
       "        vertical-align: top;\n",
       "    }\n",
       "\n",
       "    .dataframe thead th {\n",
       "        text-align: right;\n",
       "    }\n",
       "</style>\n",
       "<table border=\"1\" class=\"dataframe\">\n",
       "  <thead>\n",
       "    <tr style=\"text-align: right;\">\n",
       "      <th></th>\n",
       "      <th>article_title</th>\n",
       "      <th>article_text</th>\n",
       "    </tr>\n",
       "  </thead>\n",
       "  <tbody>\n",
       "    <tr>\n",
       "      <th>135</th>\n",
       "      <td>Mariah Carey facing $31M lawsuit over hit song...</td>\n",
       "      <td>Musician Andy Stone sued Mariah Carey for $US2...</td>\n",
       "    </tr>\n",
       "    <tr>\n",
       "      <th>34</th>\n",
       "      <td>Jude Law has been spotted at Paul McCartney’s ...</td>\n",
       "      <td>A-lister Jude Law has been spotted having the ...</td>\n",
       "    </tr>\n",
       "    <tr>\n",
       "      <th>25</th>\n",
       "      <td>'I literally just want to take a shower; look ...</td>\n",
       "      <td>Anyone who's brought home a newborn will remem...</td>\n",
       "    </tr>\n",
       "    <tr>\n",
       "      <th>94</th>\n",
       "      <td>Melbourne Cup Carnival 2023: Martha Kalifatidi...</td>\n",
       "      <td>Martha Kalifatidis joined in the merriment at ...</td>\n",
       "    </tr>\n",
       "    <tr>\n",
       "      <th>21</th>\n",
       "      <td>Unique white Platypus found in Aussie creek pr...</td>\n",
       "      <td>In 1799, when British scientists first receive...</td>\n",
       "    </tr>\n",
       "  </tbody>\n",
       "</table>\n",
       "</div>"
      ],
      "text/plain": [
       "                                         article_title  \\\n",
       "135  Mariah Carey facing $31M lawsuit over hit song...   \n",
       "34   Jude Law has been spotted at Paul McCartney’s ...   \n",
       "25   'I literally just want to take a shower; look ...   \n",
       "94   Melbourne Cup Carnival 2023: Martha Kalifatidi...   \n",
       "21   Unique white Platypus found in Aussie creek pr...   \n",
       "\n",
       "                                          article_text  \n",
       "135  Musician Andy Stone sued Mariah Carey for $US2...  \n",
       "34   A-lister Jude Law has been spotted having the ...  \n",
       "25   Anyone who's brought home a newborn will remem...  \n",
       "94   Martha Kalifatidis joined in the merriment at ...  \n",
       "21   In 1799, when British scientists first receive...  "
      ]
     },
     "execution_count": 17,
     "metadata": {},
     "output_type": "execute_result"
    }
   ],
   "source": [
    "article_data_df = pd.DataFrame(article_data, columns=[\"article_title\", \"article_text\"])\n",
    "article_data_df.sample(5)"
   ]
  },
  {
   "cell_type": "code",
   "execution_count": 18,
   "id": "99697bdd-6e37-4225-b446-bcf85026a6b6",
   "metadata": {},
   "outputs": [
    {
     "data": {
      "text/html": [
       "<div>\n",
       "<style scoped>\n",
       "    .dataframe tbody tr th:only-of-type {\n",
       "        vertical-align: middle;\n",
       "    }\n",
       "\n",
       "    .dataframe tbody tr th {\n",
       "        vertical-align: top;\n",
       "    }\n",
       "\n",
       "    .dataframe thead th {\n",
       "        text-align: right;\n",
       "    }\n",
       "</style>\n",
       "<table border=\"1\" class=\"dataframe\">\n",
       "  <thead>\n",
       "    <tr style=\"text-align: right;\">\n",
       "      <th></th>\n",
       "      <th>index</th>\n",
       "      <th>post_id</th>\n",
       "      <th>post_text</th>\n",
       "      <th>time</th>\n",
       "      <th>video</th>\n",
       "      <th>image</th>\n",
       "      <th>likes</th>\n",
       "      <th>comments</th>\n",
       "      <th>shares</th>\n",
       "      <th>post_url</th>\n",
       "      <th>link</th>\n",
       "      <th>comments_full</th>\n",
       "      <th>reactions</th>\n",
       "      <th>reaction_count</th>\n",
       "      <th>article_title</th>\n",
       "      <th>article_text</th>\n",
       "    </tr>\n",
       "  </thead>\n",
       "  <tbody>\n",
       "    <tr>\n",
       "      <th>64</th>\n",
       "      <td>107</td>\n",
       "      <td>758094369687208</td>\n",
       "      <td>Adrian Portelli and Danny Wallis’ showboating ...</td>\n",
       "      <td>2023-11-05 16:47:02</td>\n",
       "      <td>NaN</td>\n",
       "      <td>NaN</td>\n",
       "      <td>289.0</td>\n",
       "      <td>582</td>\n",
       "      <td>5</td>\n",
       "      <td>https://facebook.com/news.com.au/posts/7580943...</td>\n",
       "      <td>https://www.news.com.au/entertainment/tv/reali...</td>\n",
       "      <td>[]</td>\n",
       "      <td>NaN</td>\n",
       "      <td>289</td>\n",
       "      <td>The Block auctions: Adrian Portelli and Danny ...</td>\n",
       "      <td>The fate of this year’s contestants on The Blo...</td>\n",
       "    </tr>\n",
       "    <tr>\n",
       "      <th>15</th>\n",
       "      <td>49</td>\n",
       "      <td>758657949630850</td>\n",
       "      <td>Heartbreaking. 💔</td>\n",
       "      <td>2023-11-06 16:00:07</td>\n",
       "      <td>NaN</td>\n",
       "      <td>NaN</td>\n",
       "      <td>11.0</td>\n",
       "      <td>19</td>\n",
       "      <td>6</td>\n",
       "      <td>https://facebook.com/news.com.au/posts/7586579...</td>\n",
       "      <td>https://www.news.com.au/entertainment/celebrit...</td>\n",
       "      <td>[{'comment_id': '3397149677202656', 'comment_u...</td>\n",
       "      <td>{'like': 11, 'wow': 2, 'care': 3, 'sad': 120}</td>\n",
       "      <td>136</td>\n",
       "      <td>Black Panther stuntman Taraja Ramsess and his ...</td>\n",
       "      <td>A stuntman known for his work in Black Panther...</td>\n",
       "    </tr>\n",
       "    <tr>\n",
       "      <th>114</th>\n",
       "      <td>159</td>\n",
       "      <td>756966483133330</td>\n",
       "      <td>The police investigation will take “some time”...</td>\n",
       "      <td>2023-11-03 16:00:02</td>\n",
       "      <td>NaN</td>\n",
       "      <td>NaN</td>\n",
       "      <td>7.0</td>\n",
       "      <td>2</td>\n",
       "      <td>0</td>\n",
       "      <td>https://facebook.com/news.com.au/posts/7569664...</td>\n",
       "      <td>https://www.news.com.au/sport/more-sports/ice-...</td>\n",
       "      <td>[{'comment_id': '300744162823648', 'comment_ur...</td>\n",
       "      <td>NaN</td>\n",
       "      <td>7</td>\n",
       "      <td>Ice hockey player Adam Johnson’s fiancee had t...</td>\n",
       "      <td>Tragic ice hockey star Adam Johnson’s body was...</td>\n",
       "    </tr>\n",
       "    <tr>\n",
       "      <th>101</th>\n",
       "      <td>146</td>\n",
       "      <td>757624819734163</td>\n",
       "      <td>Ange Postecoglou is on top of the football wor...</td>\n",
       "      <td>2023-11-04 22:40:01</td>\n",
       "      <td>NaN</td>\n",
       "      <td>NaN</td>\n",
       "      <td>109.0</td>\n",
       "      <td>49</td>\n",
       "      <td>3</td>\n",
       "      <td>https://facebook.com/news.com.au/posts/7576248...</td>\n",
       "      <td>https://www.news.com.au/sport/afl/aussies-outr...</td>\n",
       "      <td>[]</td>\n",
       "      <td>NaN</td>\n",
       "      <td>109</td>\n",
       "      <td>Aussies outraged over Ange Postecoglou photo w...</td>\n",
       "      <td>Ange Postecoglou is on top of the football wor...</td>\n",
       "    </tr>\n",
       "    <tr>\n",
       "      <th>132</th>\n",
       "      <td>178</td>\n",
       "      <td>756702146493097</td>\n",
       "      <td>Time to check your coins! 👀</td>\n",
       "      <td>2023-11-03 05:20:01</td>\n",
       "      <td>NaN</td>\n",
       "      <td>NaN</td>\n",
       "      <td>59.0</td>\n",
       "      <td>21</td>\n",
       "      <td>3</td>\n",
       "      <td>https://facebook.com/news.com.au/posts/7567021...</td>\n",
       "      <td>https://www.news.com.au/finance/money/is-this-...</td>\n",
       "      <td>[{'comment_id': '272344048605678', 'comment_ur...</td>\n",
       "      <td>NaN</td>\n",
       "      <td>59</td>\n",
       "      <td>Is this rare 1968 2c Australian coin worth $49...</td>\n",
       "      <td>In the world of coin collecting, certain piece...</td>\n",
       "    </tr>\n",
       "  </tbody>\n",
       "</table>\n",
       "</div>"
      ],
      "text/plain": [
       "     index          post_id  \\\n",
       "64     107  758094369687208   \n",
       "15      49  758657949630850   \n",
       "114    159  756966483133330   \n",
       "101    146  757624819734163   \n",
       "132    178  756702146493097   \n",
       "\n",
       "                                             post_text                 time  \\\n",
       "64   Adrian Portelli and Danny Wallis’ showboating ...  2023-11-05 16:47:02   \n",
       "15                                    Heartbreaking. 💔  2023-11-06 16:00:07   \n",
       "114  The police investigation will take “some time”...  2023-11-03 16:00:02   \n",
       "101  Ange Postecoglou is on top of the football wor...  2023-11-04 22:40:01   \n",
       "132                        Time to check your coins! 👀  2023-11-03 05:20:01   \n",
       "\n",
       "    video image  likes  comments  shares  \\\n",
       "64    NaN   NaN  289.0       582       5   \n",
       "15    NaN   NaN   11.0        19       6   \n",
       "114   NaN   NaN    7.0         2       0   \n",
       "101   NaN   NaN  109.0        49       3   \n",
       "132   NaN   NaN   59.0        21       3   \n",
       "\n",
       "                                              post_url  \\\n",
       "64   https://facebook.com/news.com.au/posts/7580943...   \n",
       "15   https://facebook.com/news.com.au/posts/7586579...   \n",
       "114  https://facebook.com/news.com.au/posts/7569664...   \n",
       "101  https://facebook.com/news.com.au/posts/7576248...   \n",
       "132  https://facebook.com/news.com.au/posts/7567021...   \n",
       "\n",
       "                                                  link  \\\n",
       "64   https://www.news.com.au/entertainment/tv/reali...   \n",
       "15   https://www.news.com.au/entertainment/celebrit...   \n",
       "114  https://www.news.com.au/sport/more-sports/ice-...   \n",
       "101  https://www.news.com.au/sport/afl/aussies-outr...   \n",
       "132  https://www.news.com.au/finance/money/is-this-...   \n",
       "\n",
       "                                         comments_full  \\\n",
       "64                                                  []   \n",
       "15   [{'comment_id': '3397149677202656', 'comment_u...   \n",
       "114  [{'comment_id': '300744162823648', 'comment_ur...   \n",
       "101                                                 []   \n",
       "132  [{'comment_id': '272344048605678', 'comment_ur...   \n",
       "\n",
       "                                         reactions  reaction_count  \\\n",
       "64                                             NaN             289   \n",
       "15   {'like': 11, 'wow': 2, 'care': 3, 'sad': 120}             136   \n",
       "114                                            NaN               7   \n",
       "101                                            NaN             109   \n",
       "132                                            NaN              59   \n",
       "\n",
       "                                         article_title  \\\n",
       "64   The Block auctions: Adrian Portelli and Danny ...   \n",
       "15   Black Panther stuntman Taraja Ramsess and his ...   \n",
       "114  Ice hockey player Adam Johnson’s fiancee had t...   \n",
       "101  Aussies outraged over Ange Postecoglou photo w...   \n",
       "132  Is this rare 1968 2c Australian coin worth $49...   \n",
       "\n",
       "                                          article_text  \n",
       "64   The fate of this year’s contestants on The Blo...  \n",
       "15   A stuntman known for his work in Black Panther...  \n",
       "114  Tragic ice hockey star Adam Johnson’s body was...  \n",
       "101  Ange Postecoglou is on top of the football wor...  \n",
       "132  In the world of coin collecting, certain piece...  "
      ]
     },
     "execution_count": 18,
     "metadata": {},
     "output_type": "execute_result"
    }
   ],
   "source": [
    "df2 = pd.concat([df2,article_data_df], axis=1)\n",
    "df2.sample(5)"
   ]
  },
  {
   "cell_type": "markdown",
   "id": "644fd598-4706-4db1-a769-c0523921ca1b",
   "metadata": {},
   "source": [
    "# Sentiment Analysis"
   ]
  },
  {
   "cell_type": "markdown",
   "id": "7a18576c-84c5-4ddb-996c-4ed7e959e2db",
   "metadata": {},
   "source": [
    "VADER polarity scores (pos, neu, neg) are ratios for proportions of text that fall in each category. The compound score is the sum of the valence for each word, adjusted according to the rules, and then normalized to be between -1 (most extreme negative) and +1 (most extreme positive). "
   ]
  },
  {
   "cell_type": "markdown",
   "id": "74c22035-51d0-44c2-bcbc-5266433bfa21",
   "metadata": {},
   "source": [
    "Import libraries."
   ]
  },
  {
   "cell_type": "code",
   "execution_count": 19,
   "id": "2c263190-39ea-440e-9e8f-5a15d1fa9484",
   "metadata": {
    "scrolled": true
   },
   "outputs": [],
   "source": [
    "from nltk.sentiment.vader import SentimentIntensityAnalyzer"
   ]
  },
  {
   "cell_type": "markdown",
   "id": "f26439d0-4d0f-43de-a2ea-60ecf894a429",
   "metadata": {},
   "source": [
    "Functions."
   ]
  },
  {
   "cell_type": "code",
   "execution_count": 20,
   "id": "4e899f5a-e01f-40f7-bc4d-9c5aafc5cce2",
   "metadata": {},
   "outputs": [],
   "source": [
    "analyzer = SentimentIntensityAnalyzer()\n",
    "\n",
    "def perc_round(float):\n",
    "    return np.round(float*100,2)\n",
    "\n",
    "def sentiment_analyzer(text):\n",
    "    d = {'neg':analyzer.polarity_scores(text)['neg'],\n",
    "         'neu':analyzer.polarity_scores(text)['neu'],\n",
    "         'pos':analyzer.polarity_scores(text)['pos'],\n",
    "         'com':analyzer.polarity_scores(text)['compound']}\n",
    "    return d\n",
    "\n",
    "def add_sentiments_to_df(df, colnames):\n",
    "    for col in colnames:\n",
    "        sentiments = df[col].apply(lambda x: sentiment_analyzer(x)).apply(pd.Series)\n",
    "        sentiments.columns = [col+\"_neg\", \n",
    "                              col+\"_neu\",\n",
    "                              col+\"_pos\", \n",
    "                              col+\"_com\"]\n",
    "        df = pd.concat([df, sentiments], axis=1)\n",
    "    return df"
   ]
  },
  {
   "cell_type": "markdown",
   "id": "486b5787-6c5e-49d5-8e5c-c5dcd0d54694",
   "metadata": {},
   "source": [
    "Add sentiments for whichever text you want to conduct sentiment analysis on. (Options: article_text, article_title, post_text)"
   ]
  },
  {
   "cell_type": "code",
   "execution_count": 21,
   "id": "7963a652-9531-4b98-82f3-2395e092a413",
   "metadata": {},
   "outputs": [],
   "source": [
    "df3 = df2.copy()\n",
    "df3 = add_sentiments_to_df(df3, [\"article_text\"])"
   ]
  },
  {
   "cell_type": "code",
   "execution_count": 22,
   "id": "8d6a64d2-e3b2-4ca0-b356-57e5b4697679",
   "metadata": {},
   "outputs": [
    {
     "ename": "AttributeError",
     "evalue": "'DataFrame' object has no attribute 'article_text_pos'",
     "output_type": "error",
     "traceback": [
      "\u001b[0;31m---------------------------------------------------------------------------\u001b[0m",
      "\u001b[0;31mAttributeError\u001b[0m                            Traceback (most recent call last)",
      "\u001b[0;32m/var/folders/pz/y24gz8n95zn376qrsvtppb840000gn/T/ipykernel_21862/1684560963.py\u001b[0m in \u001b[0;36m?\u001b[0;34m()\u001b[0m\n\u001b[0;32m----> 4\u001b[0;31m \u001b[0;32mimport\u001b[0m \u001b[0mseaborn\u001b[0m \u001b[0;32mas\u001b[0m \u001b[0msns\u001b[0m\u001b[0;34m\u001b[0m\u001b[0;34m\u001b[0m\u001b[0m\n\u001b[0m\u001b[1;32m      5\u001b[0m \u001b[0;32mimport\u001b[0m \u001b[0mmatplotlib\u001b[0m\u001b[0;34m.\u001b[0m\u001b[0mpyplot\u001b[0m \u001b[0;32mas\u001b[0m \u001b[0mplt\u001b[0m\u001b[0;34m\u001b[0m\u001b[0;34m\u001b[0m\u001b[0m\n\u001b[1;32m      6\u001b[0m \u001b[0;34m\u001b[0m\u001b[0m\n\u001b[1;32m      7\u001b[0m \u001b[0mplt\u001b[0m\u001b[0;34m.\u001b[0m\u001b[0mhist\u001b[0m\u001b[0;34m(\u001b[0m\u001b[0mdf\u001b[0m\u001b[0;34m.\u001b[0m\u001b[0marticle_text_pos\u001b[0m\u001b[0;34m,\u001b[0m \u001b[0mbins\u001b[0m\u001b[0;34m=\u001b[0m\u001b[0;36m5\u001b[0m\u001b[0;34m)\u001b[0m\u001b[0;34m\u001b[0m\u001b[0;34m\u001b[0m\u001b[0m\n",
      "\u001b[0;32m~/opt/miniconda3/envs/scraper/lib/python3.8/site-packages/pandas/core/generic.py\u001b[0m in \u001b[0;36m?\u001b[0;34m(self, name)\u001b[0m\n\u001b[1;32m   5985\u001b[0m             \u001b[0;32mand\u001b[0m \u001b[0mname\u001b[0m \u001b[0;32mnot\u001b[0m \u001b[0;32min\u001b[0m \u001b[0mself\u001b[0m\u001b[0;34m.\u001b[0m\u001b[0m_accessors\u001b[0m\u001b[0;34m\u001b[0m\u001b[0;34m\u001b[0m\u001b[0m\n\u001b[1;32m   5986\u001b[0m             \u001b[0;32mand\u001b[0m \u001b[0mself\u001b[0m\u001b[0;34m.\u001b[0m\u001b[0m_info_axis\u001b[0m\u001b[0;34m.\u001b[0m\u001b[0m_can_hold_identifiers_and_holds_name\u001b[0m\u001b[0;34m(\u001b[0m\u001b[0mname\u001b[0m\u001b[0;34m)\u001b[0m\u001b[0;34m\u001b[0m\u001b[0;34m\u001b[0m\u001b[0m\n\u001b[1;32m   5987\u001b[0m         ):\n\u001b[1;32m   5988\u001b[0m             \u001b[0;32mreturn\u001b[0m \u001b[0mself\u001b[0m\u001b[0;34m[\u001b[0m\u001b[0mname\u001b[0m\u001b[0;34m]\u001b[0m\u001b[0;34m\u001b[0m\u001b[0;34m\u001b[0m\u001b[0m\n\u001b[0;32m-> 5989\u001b[0;31m         \u001b[0;32mreturn\u001b[0m \u001b[0mobject\u001b[0m\u001b[0;34m.\u001b[0m\u001b[0m__getattribute__\u001b[0m\u001b[0;34m(\u001b[0m\u001b[0mself\u001b[0m\u001b[0;34m,\u001b[0m \u001b[0mname\u001b[0m\u001b[0;34m)\u001b[0m\u001b[0;34m\u001b[0m\u001b[0;34m\u001b[0m\u001b[0m\n\u001b[0m",
      "\u001b[0;31mAttributeError\u001b[0m: 'DataFrame' object has no attribute 'article_text_pos'"
     ]
    }
   ],
   "source": [
    "import seaborn as sns\n",
    "import matplotlib.pyplot as plt\n",
    "\n",
    "plt.hist(df.article_text_pos, bins=5)\n",
    "plt.title('Histogram of Values')\n",
    "plt.xlabel('Value')\n",
    "plt.ylabel('Frequency')\n",
    "plt.show()"
   ]
  },
  {
   "cell_type": "code",
   "execution_count": null,
   "id": "ce2fe10b-5447-4483-b3c5-fb5b7aa281a0",
   "metadata": {},
   "outputs": [],
   "source": []
  },
  {
   "cell_type": "code",
   "execution_count": null,
   "id": "13d26af3-536e-4861-8d03-f4f5b05c6c30",
   "metadata": {},
   "outputs": [],
   "source": [
    "df3 = add_sentiments_to_df(df3, [\"post_text\", \"article_title\",\"article_text\"])"
   ]
  },
  {
   "cell_type": "code",
   "execution_count": null,
   "id": "22886dac-78a4-4dce-91ea-011d1665bdf8",
   "metadata": {},
   "outputs": [],
   "source": [
    "df3.sample(5)"
   ]
  },
  {
   "cell_type": "markdown",
   "id": "967cdd41-9d73-46b6-b83d-f401c56a729d",
   "metadata": {},
   "source": [
    "Export data to csv. "
   ]
  },
  {
   "cell_type": "code",
   "execution_count": null,
   "id": "a7608df3-e4d5-483c-a405-cff14aef2d4f",
   "metadata": {},
   "outputs": [],
   "source": [
    "df3.info()"
   ]
  },
  {
   "cell_type": "code",
   "execution_count": null,
   "id": "e47f1806-456c-46f4-b530-50b950d7af70",
   "metadata": {},
   "outputs": [],
   "source": [
    "columns = [\"time\",\n",
    "           \"likes\",\n",
    "           \"comments\",\n",
    "           \"shares\",\n",
    "           \"link\",\n",
    "           \"comments_full\",\n",
    "          \"reactions\",\n",
    "           \"reaction_count\",\n",
    "           \"article_title\",\n",
    "           \"article_text\",\n",
    "           \"\"\n",
    "          \"]"
   ]
  },
  {
   "cell_type": "code",
   "execution_count": null,
   "id": "ec24f7e5-cbb8-4672-9d0c-221c3a948b59",
   "metadata": {},
   "outputs": [],
   "source": [
    "df3.to_csv(\"datafile.csv\")"
   ]
  },
  {
   "cell_type": "code",
   "execution_count": 23,
   "id": "c51768a1-ad26-4f79-9dda-ca17b4b8cbe5",
   "metadata": {},
   "outputs": [
    {
     "name": "stdout",
     "output_type": "stream",
     "text": [
      "<class 'pandas.core.frame.DataFrame'>\n",
      "RangeIndex: 136 entries, 0 to 135\n",
      "Data columns (total 20 columns):\n",
      " #   Column            Non-Null Count  Dtype  \n",
      "---  ------            --------------  -----  \n",
      " 0   index             136 non-null    int64  \n",
      " 1   post_id           136 non-null    int64  \n",
      " 2   post_text         136 non-null    object \n",
      " 3   time              136 non-null    object \n",
      " 4   video             0 non-null      object \n",
      " 5   image             31 non-null     object \n",
      " 6   likes             136 non-null    float64\n",
      " 7   comments          136 non-null    int64  \n",
      " 8   shares            136 non-null    int64  \n",
      " 9   post_url          136 non-null    object \n",
      " 10  link              136 non-null    object \n",
      " 11  comments_full     136 non-null    object \n",
      " 12  reactions         26 non-null     object \n",
      " 13  reaction_count    136 non-null    int64  \n",
      " 14  article_title     136 non-null    object \n",
      " 15  article_text      136 non-null    object \n",
      " 16  article_text_neg  136 non-null    float64\n",
      " 17  article_text_neu  136 non-null    float64\n",
      " 18  article_text_pos  136 non-null    float64\n",
      " 19  article_text_com  136 non-null    float64\n",
      "dtypes: float64(5), int64(5), object(10)\n",
      "memory usage: 21.4+ KB\n"
     ]
    }
   ],
   "source": [
    "df3.info()"
   ]
  },
  {
   "cell_type": "markdown",
   "id": "0358c318-bd6f-4093-b964-9c7a8ed6ced9",
   "metadata": {},
   "source": [
    "Save to csv."
   ]
  },
  {
   "cell_type": "code",
   "execution_count": 24,
   "id": "da54e102-78f9-4326-afb8-ceb15e392b06",
   "metadata": {},
   "outputs": [],
   "source": [
    "df3 = df3[columns]\n",
    "df3.to_csv(\"datafile.csv\")"
   ]
  },
  {
   "cell_type": "code",
   "execution_count": null,
   "id": "4ab5de97-97f2-4386-9520-f462975e8ae2",
   "metadata": {},
   "outputs": [],
   "source": []
  }
 ],
 "metadata": {
  "kernelspec": {
   "display_name": "Python (scraper)",
   "language": "python",
   "name": "scraper"
  },
  "language_info": {
   "codemirror_mode": {
    "name": "ipython",
    "version": 3
   },
   "file_extension": ".py",
   "mimetype": "text/x-python",
   "name": "python",
   "nbconvert_exporter": "python",
   "pygments_lexer": "ipython3",
   "version": "3.8.18"
  }
 },
 "nbformat": 4,
 "nbformat_minor": 5
}
